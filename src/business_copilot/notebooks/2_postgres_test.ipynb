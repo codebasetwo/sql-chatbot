{
 "cells": [
  {
   "cell_type": "code",
   "execution_count": 1,
   "id": "c127e8ff-70d7-484c-aa60-52e98d57e4ba",
   "metadata": {},
   "outputs": [],
   "source": [
    "import os\n",
    "from dotenv import load_dotenv, find_dotenv"
   ]
  },
  {
   "cell_type": "code",
   "execution_count": 2,
   "id": "e179ad2d-801e-42c6-b1f2-d290b7cf9dff",
   "metadata": {},
   "outputs": [],
   "source": [
    "_ = load_dotenv(find_dotenv())\n",
    "postgres_uri = os.environ.get(\"DATABASE\")"
   ]
  },
  {
   "cell_type": "code",
   "execution_count": 3,
   "id": "9aa650fb-dc80-477f-b723-50cacc5eff6c",
   "metadata": {},
   "outputs": [],
   "source": [
    "from business_copilot.biz_analytics.db_tools import (list_tables, \n",
    "                                                     get_relevant_schema_example, \n",
    "                                                     resolve_error, \n",
    "                                                     execute_query,\n",
    "                                                     double_check_query,\n",
    "                                                     )\n",
    "from business_copilot.biz_analytics.prompts import POSTGRES_SYSTEM_MESSAGE\n",
    "from langchain_core.prompts import PromptTemplate\n",
    "from langgraph.prebuilt import create_react_agent"
   ]
  },
  {
   "cell_type": "code",
   "execution_count": 4,
   "id": "72249902-a600-4c36-af6b-157ac235733b",
   "metadata": {},
   "outputs": [],
   "source": [
    "# Get the tools\n",
    "POSTGRES_SYSTEM_MESSAGE = \"\"\"\n",
    "You are a Data Analyst agent designed to interact with a POSTGRESQL database.\n",
    "Given an input question:\n",
    "- Create a syntactically correct query to run,\n",
    "- Look at the results of the query and return the answer. \n",
    "- Unless the user specifies a specific number of examples they wish to obtain, always limit your query to at most {top_k} results.\n",
    "\n",
    "IMPORTANT:\n",
    "- To start you should ALWAYS look at the list of tables in the database to be sure your predicted table exists. Do NOT skip this step.\n",
    "\n",
    "Check the list of tables again to be sure they are all relevant before, Get example and schema for each of the tables you predicted. \n",
    "Make sure that they exist. So, You can have context you can work with.\n",
    "\n",
    "MUST DO: You MUST double check your query before executing it. DO NOT FORGET this step.\n",
    "ONLY Then you execute the query with the most relevant table.\n",
    "\n",
    "You can order the results by a relevant column to return the most interesting\n",
    "examples in the database. Never query for all the columns from a specific table,\n",
    "only ask for the relevant columns given the question.\n",
    "\n",
    "Note:\n",
    "    If you get an error while executing the final query, that is, when using the execute_query tool \n",
    "    ONLY then can you use the resolve_error tool. to try again and resolve the error.\n",
    "VERY IMPORTANT:\n",
    "    - DO NOT make any DOMAIN DEFINITION LANGUAGE (DDL) statements such  as (CREATE, ALTER, DROP, TRUNCATE, RENAME)\n",
    "    - Also DO NOT make any DML statements (INSERT, UPDATE, DELETE etc.) to the database.\n",
    "\"\"\".format(\n",
    "    top_k=5,\n",
    ")\n",
    "\n",
    "tools = [\n",
    "    list_tables, get_relevant_schema_example,\n",
    "    resolve_error, execute_query, \n",
    "    double_check_query,\n",
    "]"
   ]
  },
  {
   "cell_type": "code",
   "execution_count": 5,
   "id": "b7e6d759-dc44-4b81-8e2c-016af9b76eb2",
   "metadata": {},
   "outputs": [],
   "source": [
    "from langchain.chat_models import init_chat_model\n",
    "from langgraph.prebuilt.chat_agent_executor import AgentState\n",
    "from langmem.short_term import SummarizationNode, RunningSummary\n",
    "from langchain_core.messages.utils import count_tokens_approximately\n",
    "from langgraph.prebuilt.chat_agent_executor import AgentState\n",
    "from langgraph.checkpoint.memory import InMemorySaver\n",
    "from typing import Any"
   ]
  },
  {
   "cell_type": "code",
   "execution_count": 6,
   "id": "ad79cdf6-3173-4255-acaa-1847c53b1b16",
   "metadata": {},
   "outputs": [],
   "source": [
    "\n",
    "model = \"gpt-4o\"\n",
    "llm = init_chat_model(f\"openai:{model}\", temperature=0.0)"
   ]
  },
  {
   "cell_type": "code",
   "execution_count": 7,
   "id": "d6ba7ec5-d6bc-4b2c-af1c-77e4efa1d41c",
   "metadata": {},
   "outputs": [],
   "source": [
    "from langchain.chat_models import init_chat_model\n",
    "summarization_llm = init_chat_model(\"openai:gpt-4o\", temperature=0.0)"
   ]
  },
  {
   "cell_type": "code",
   "execution_count": 8,
   "id": "25d49f3e-7047-41eb-89eb-809670d6172e",
   "metadata": {},
   "outputs": [],
   "source": [
    "summarization_node = SummarizationNode( \n",
    "    token_counter=count_tokens_approximately,\n",
    "    model=summarization_llm,\n",
    "    max_tokens=4096,  # make it higher depends on question\n",
    "    max_summary_tokens=2048,\n",
    "    output_messages_key=\"summarized_llm_messages\",\n",
    ")"
   ]
  },
  {
   "cell_type": "code",
   "execution_count": 9,
   "id": "9180e091-a207-497a-8c27-5d204f2867b7",
   "metadata": {},
   "outputs": [],
   "source": [
    "class State(AgentState):\n",
    "    # NOTE: We're adding this key to keep track of previous summary information\n",
    "    # to make sure we're not summarizing on every LLM call\n",
    "    context: dict[str, RunningSummary]"
   ]
  },
  {
   "cell_type": "code",
   "execution_count": 10,
   "id": "a68d5bdc-08b5-4728-86c0-85d5b3627659",
   "metadata": {},
   "outputs": [],
   "source": [
    "checkpointer = InMemorySaver()"
   ]
  },
  {
   "cell_type": "code",
   "execution_count": 11,
   "id": "9dd870cc-cd2d-46c6-9f29-c5395a621a5a",
   "metadata": {},
   "outputs": [],
   "source": [
    "agent_mem = create_react_agent(\n",
    "    llm, tools=tools, \n",
    "    prompt=POSTGRES_SYSTEM_MESSAGE, \n",
    "    pre_model_hook=summarization_node,\n",
    "    state_schema=State,\n",
    "    checkpointer=checkpointer,\n",
    "                              )\n",
    "\n",
    "config = {\n",
    "    \"configurable\": {\n",
    "        \"thread_id\": \"1\"\n",
    "    }\n",
    "}\n",
    "\n"
   ]
  },
  {
   "cell_type": "code",
   "execution_count": 14,
   "id": "e40b0e2e-43b2-414f-b0ad-388aa495d2fe",
   "metadata": {},
   "outputs": [
    {
     "name": "stdout",
     "output_type": "stream",
     "text": [
      "================================\u001b[1m Human Message \u001b[0m=================================\n",
      "\n",
      "Which country's customers spent the most?\n",
      "==================================\u001b[1m Ai Message \u001b[0m==================================\n",
      "Tool Calls:\n",
      "  list_tables (call_N9M0M0hssLiQflqJCqyKdcVo)\n",
      " Call ID: call_N9M0M0hssLiQflqJCqyKdcVo\n",
      "  Args:\n",
      "=================================\u001b[1m Tool Message \u001b[0m=================================\n",
      "Name: list_tables\n",
      "\n",
      "[\"artist\", \"album\", \"employee\", \"customer\", \"invoice\", \"invoice_line\", \"track\", \"playlist\", \"playlist_track\", \"genre\", \"media_type\"]\n",
      "==================================\u001b[1m Ai Message \u001b[0m==================================\n",
      "Tool Calls:\n",
      "  get_relevant_schema_example (call_nAjGtVqEy2FQvaVmR0AyXw9Q)\n",
      " Call ID: call_nAjGtVqEy2FQvaVmR0AyXw9Q\n",
      "  Args:\n",
      "    table_names: ['customer', 'invoice']\n",
      "=================================\u001b[1m Tool Message \u001b[0m=================================\n",
      "Name: get_relevant_schema_example\n",
      "\n",
      "CREATE TABLE \"customer\" (\n",
      "\t\"customer_id\" INTEGER NOT NULL,\n",
      "\t\"first_name\" NVARCHAR(40) NOT NULL,\n",
      "\t\"last_name\" NVARCHAR(20) NOT NULL,\n",
      "\t\"company\" NVARCHAR(80),\n",
      "\t\"address\" NVARCHAR(70),\n",
      "\t\"city\" NVARCHAR(40),\n",
      "\t\"state\" NVARCHAR(40),\n",
      "\t\"country\" NVARCHAR(40),\n",
      "\t\"postal_code\" NVARCHAR(10),\n",
      "\t\"phone\" NVARCHAR(24),\n",
      "\t\"fax\" NVARCHAR(24),\n",
      "\t\"email\" NVARCHAR(60) NOT NULL,\n",
      "\t\"support_rep_id\" INTEGER,\n",
      "\tPRIMARY KEY (\"customer_id\"),\n",
      "\tFOREIGN KEY(\"support_rep_id\") REFERENCES \"employee\" (\"employee_id\")\n",
      ");\n",
      "\n",
      "/*\n",
      "3 rows from 'customer' table:\n",
      "   customer_id first_name  last_name                                           company                          address                 city state  country postal_code               phone                 fax                  email  support_rep_id\n",
      "0            1       Luís  Gonçalves  Embraer - Empresa Brasileira de Aeronáutica S.A.  Av. Brigadeiro Faria Lima, 2170  São José dos Campos    SP   Brazil   12227-000  +55 (12) 3923-5555  +55 (12) 3923-5566   luisg@embraer.com.br               3\n",
      "1            2     Leonie     Köhler                                              None          Theodor-Heuss-Straße 34            Stuttgart  None  Germany       70174    +49 0711 2842222                None  leonekohler@surfeu.de               5\n",
      "2            3   François   Tremblay                                              None                1498 rue Bélanger             Montréal    QC   Canada     H2G 1A7   +1 (514) 721-4711                None    ftremblay@gmail.com               3\n",
      "*/\n",
      "\n",
      "CREATE TABLE \"invoice\" (\n",
      "\t\"invoice_id\" INTEGER NOT NULL,\n",
      "\t\"customer_id\" INTEGER NOT NULL,\n",
      "\t\"invoice_date\" TIMESTAMP WITHOUT TIME ZONE NOT NULL,\n",
      "\t\"billing_address\" NVARCHAR(70),\n",
      "\t\"billing_city\" NVARCHAR(40),\n",
      "\t\"billing_state\" NVARCHAR(40),\n",
      "\t\"billing_country\" NVARCHAR(40),\n",
      "\t\"billing_postal_code\" NVARCHAR(10),\n",
      "\t\"total\" NUMERIC NOT NULL,\n",
      "\tPRIMARY KEY (\"invoice_id\"),\n",
      "\tFOREIGN KEY(\"customer_id\") REFERENCES \"customer\" (\"customer_id\")\n",
      ");\n",
      "\n",
      "/*\n",
      "3 rows from 'invoice' table:\n",
      "   invoice_id  customer_id invoice_date          billing_address billing_city billing_state billing_country billing_postal_code total\n",
      "0           1            2   2021-01-01  Theodor-Heuss-Straße 34    Stuttgart          None         Germany               70174  1.98\n",
      "1           2            4   2021-01-02         Ullevålsveien 14         Oslo          None          Norway                0171  3.96\n",
      "2           3            8   2021-01-03          Grétrystraat 63     Brussels          None         Belgium                1000  5.94\n",
      "*/\n",
      "\n",
      "\n",
      "==================================\u001b[1m Ai Message \u001b[0m==================================\n",
      "Tool Calls:\n",
      "  double_check_query (call_bwXo2E0uO3nELlDUr13da6Mz)\n",
      " Call ID: call_bwXo2E0uO3nELlDUr13da6Mz\n",
      "  Args:\n",
      "    query: SELECT c.country, SUM(i.total) AS total_spent FROM customer c JOIN invoice i ON c.customer_id = i.customer_id GROUP BY c.country ORDER BY total_spent DESC LIMIT 5;\n",
      "=================================\u001b[1m Tool Message \u001b[0m=================================\n",
      "Name: double_check_query\n",
      "\n",
      " \n",
      "\n",
      "The original query looks good as it is. \n",
      "\n",
      "```sql\n",
      "SELECT c.country, SUM(i.total) AS total_spent \n",
      "FROM customer c \n",
      "JOIN invoice i ON c.customer_id = i.customer_id \n",
      "GROUP BY c.country \n",
      "ORDER BY total_spent DESC \n",
      "LIMIT 5;\n",
      "```\n",
      "==================================\u001b[1m Ai Message \u001b[0m==================================\n",
      "Tool Calls:\n",
      "  execute_query (call_hNKNIceHXtnbKv6hAotpy02m)\n",
      " Call ID: call_hNKNIceHXtnbKv6hAotpy02m\n",
      "  Args:\n",
      "    query: SELECT c.country, SUM(i.total) AS total_spent FROM customer c JOIN invoice i ON c.customer_id = i.customer_id GROUP BY c.country ORDER BY total_spent DESC LIMIT 5;\n",
      "=================================\u001b[1m Tool Message \u001b[0m=================================\n",
      "Name: execute_query\n",
      "\n",
      "[<Record country='USA' total_spent=Decimal('523.06')>, <Record country='Canada' total_spent=Decimal('303.96')>, <Record country='France' total_spent=Decimal('195.10')>, <Record country='Brazil' total_spent=Decimal('190.10')>, <Record country='Germany' total_spent=Decimal('156.48')>]\n",
      "==================================\u001b[1m Ai Message \u001b[0m==================================\n",
      "\n",
      "The country whose customers spent the most is the USA, with a total spending of 523.06.\n"
     ]
    }
   ],
   "source": [
    "question =  \"Which country's customers spent the most?\"\n",
    "async for step in agent_mem.astream(\n",
    "    {\"messages\": [{\"role\": \"user\", \"content\": question}]},\n",
    "    config=config,\n",
    "    stream_mode=\"values\",\n",
    "):\n",
    "    step[\"messages\"][-1].pretty_print()"
   ]
  },
  {
   "cell_type": "code",
   "execution_count": null,
   "id": "b08f0058-6d16-464d-a0a2-9332aca708cc",
   "metadata": {},
   "outputs": [],
   "source": [
    "agent_mem.get_state(config)"
   ]
  },
  {
   "cell_type": "code",
   "execution_count": null,
   "id": "10610c1e-f54b-45f9-b826-b327fa852405",
   "metadata": {},
   "outputs": [],
   "source": []
  },
  {
   "cell_type": "code",
   "execution_count": null,
   "id": "bbc0d3f8-93a9-47ca-98e2-16eb03f124b6",
   "metadata": {},
   "outputs": [],
   "source": []
  },
  {
   "cell_type": "code",
   "execution_count": null,
   "id": "8feff8e7-48a0-4161-9c3e-f857badfb9da",
   "metadata": {},
   "outputs": [],
   "source": []
  },
  {
   "cell_type": "code",
   "execution_count": null,
   "id": "949d5a6a-0739-480b-8921-c937e8ce33d7",
   "metadata": {},
   "outputs": [],
   "source": []
  }
 ],
 "metadata": {
  "kernelspec": {
   "display_name": "Python 3 (ipykernel)",
   "language": "python",
   "name": "python3"
  },
  "language_info": {
   "codemirror_mode": {
    "name": "ipython",
    "version": 3
   },
   "file_extension": ".py",
   "mimetype": "text/x-python",
   "name": "python",
   "nbconvert_exporter": "python",
   "pygments_lexer": "ipython3",
   "version": "3.13.6"
  }
 },
 "nbformat": 4,
 "nbformat_minor": 5
}
